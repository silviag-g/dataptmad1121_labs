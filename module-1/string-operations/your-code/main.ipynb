{
 "cells": [
  {
   "cell_type": "markdown",
   "metadata": {},
   "source": [
    "# Before your start:\n",
    "- Read the README.md file\n",
    "- Comment as much as you can and use the resources in the README.md file\n",
    "- Happy learning!"
   ]
  },
  {
   "cell_type": "code",
   "execution_count": 14,
   "metadata": {},
   "outputs": [],
   "source": [
    "import re"
   ]
  },
  {
   "cell_type": "markdown",
   "metadata": {},
   "source": [
    "# Challenge 1 - Combining Strings\n",
    "\n",
    "Combining strings is an important skill to acquire. There are multiple ways of combining strings in Python, as well as combining strings with variables. We will explore this in the first challenge. In the cell below, combine the strings in the list and add spaces between the strings (do not add a space after the last string). Insert a period after the last string."
   ]
  },
  {
   "cell_type": "code",
   "execution_count": 16,
   "metadata": {},
   "outputs": [
    {
     "name": "stdout",
     "output_type": "stream",
     "text": [
      "Durante un tiempo no estuvo segura de si su marido era su marido."
     ]
    }
   ],
   "source": [
    "str_list = ['Durante', 'un', 'tiempo', 'no', 'estuvo', 'segura', 'de', 'si', 'su', 'marido', 'era', 'su', 'marido']\n",
    "# Your code here:\n",
    "print (' '.join(str_list), end='.')"
   ]
  },
  {
   "cell_type": "markdown",
   "metadata": {},
   "source": [
    "In the cell below, use the list of strings to create a grocery list. Start the list with the string `Grocery list: ` and include a comma and a space between each item except for the last one. Include a period at the end. Only include foods in the list that start with the letter 'b' and ensure all foods are lower case."
   ]
  },
  {
   "cell_type": "code",
   "execution_count": 9,
   "metadata": {},
   "outputs": [
    {
     "name": "stdout",
     "output_type": "stream",
     "text": [
      "['bananas', 'chocolate', 'bread', 'diapers', 'ice cream', 'brownie mix', 'broccoli']\n"
     ]
    }
   ],
   "source": [
    "food_list = ['Bananas', 'Chocolate', 'bread', 'diapers', 'Ice Cream', 'Brownie Mix', 'broccoli']\n",
    "# Start the list with grocery, include a comma and space. Also include period in the end.Only include food in the list that start with b and ensure all are in lower case.\n",
    "# All foods are in lower case.\n",
    "food_list = str(food_list)\n",
    "food_list_lower = (food_list.lower())\n",
    "print(food_list_lower)"
   ]
  },
  {
   "cell_type": "code",
   "execution_count": 15,
   "metadata": {},
   "outputs": [
    {
     "name": "stdout",
     "output_type": "stream",
     "text": [
      "['bananas', 'bread', 'brownie', 'broccoli']\n"
     ]
    }
   ],
   "source": [
    "# Only food that starts with b.\n",
    "food_list_b = re.findall(\"b\\w+\", food_list_lower)\n",
    "print (food_list_b)\n"
   ]
  },
  {
   "cell_type": "code",
   "execution_count": 16,
   "metadata": {},
   "outputs": [
    {
     "name": "stdout",
     "output_type": "stream",
     "text": [
      "Grocery list: bananas , bread , brownie , broccoli."
     ]
    }
   ],
   "source": [
    "# Start the list with grocery, include a comma and space.\n",
    "print(\"Grocery list:\", ' , '.join(food_list_b), end='.')\n"
   ]
  },
  {
   "cell_type": "markdown",
   "metadata": {},
   "source": [
    "In the cell below, write a function that computes the area of a circle using its radius. Compute the area of the circle and insert the radius and the area between the two strings. Make sure to include spaces between the variable and the strings. \n",
    "\n",
    "Note: You can use the techniques we have learned so far or use f-strings. F-strings allow us to embed code inside strings. You can read more about f-strings [here](https://www.python.org/dev/peps/pep-0498/)."
   ]
  },
  {
   "cell_type": "code",
   "execution_count": 13,
   "metadata": {},
   "outputs": [
    {
     "name": "stdout",
     "output_type": "stream",
     "text": [
      "El área del circulo es: 63.61725123519331\n"
     ]
    }
   ],
   "source": [
    "import math\n",
    "r = 4.5  #En este caso nos dan el radio. En caso de que no lo dieran r = float (input(\"Ingrese el radio:\")\n",
    "a = math.pi * r ** 2 #Área del circulo\n",
    "print(\"El área del circulo es:\", a)"
   ]
  },
  {
   "cell_type": "markdown",
   "metadata": {},
   "source": [
    "# Challenge 2 - Splitting Strings\n",
    "\n",
    "We have first looked at combining strings into one long string. There are times where we need to do the opposite and split the string into smaller components for further analysis. \n",
    "\n",
    "In the cell below, split the string into a list of strings using the space delimiter. Count the frequency of each word in the string in a dictionary. Strip the periods, line breaks and commas from the text. Make sure to remove empty strings from your dictionary."
   ]
  },
  {
   "cell_type": "code",
   "execution_count": 32,
   "metadata": {},
   "outputs": [
    {
     "name": "stdout",
     "output_type": "stream",
     "text": [
      "Some say the world will end in fire  Some say in ice  From what I’ve tasted of desire I hold with those who favor fire  But if it had to perish twice  I think I know enough of hate To say that for destruction ice Is also great And would suffice \n"
     ]
    }
   ],
   "source": [
    "poem = \"\"\"Some say the world will end in fire,\n",
    "Some say in ice.\n",
    "From what I’ve tasted of desire\n",
    "I hold with those who favor fire.\n",
    "But if it had to perish twice,\n",
    "I think I know enough of hate\n",
    "To say that for destruction ice\n",
    "Is also great\n",
    "And would suffice.\"\"\"\n",
    "\n",
    "# Your code here :Strip the periods, line breaks and commas from the text.\n",
    "poem1 = poem.replace(',',' ')\n",
    "poem2 = poem1.replace('.',' ')\n",
    "poem3 = poem2.replace('\\n',' ')\n",
    "print(poem3)"
   ]
  },
  {
   "cell_type": "code",
   "execution_count": 33,
   "metadata": {},
   "outputs": [
    {
     "name": "stdout",
     "output_type": "stream",
     "text": [
      "[('Some', 2), ('say', 3), ('the', 1), ('world', 1), ('will', 1), ('end', 1), ('in', 2), ('fire', 2), ('', 5), ('Some', 2), ('say', 3), ('in', 2), ('ice', 2), ('', 5), ('From', 1), ('what', 1), ('I’ve', 1), ('tasted', 1), ('of', 2), ('desire', 1), ('I', 3), ('hold', 1), ('with', 1), ('those', 1), ('who', 1), ('favor', 1), ('fire', 2), ('', 5), ('But', 1), ('if', 1), ('it', 1), ('had', 1), ('to', 1), ('perish', 1), ('twice', 1), ('', 5), ('I', 3), ('think', 1), ('I', 3), ('know', 1), ('enough', 1), ('of', 2), ('hate', 1), ('To', 1), ('say', 3), ('that', 1), ('for', 1), ('destruction', 1), ('ice', 2), ('Is', 1), ('also', 1), ('great', 1), ('And', 1), ('would', 1), ('suffice', 1), ('', 5)]\n"
     ]
    }
   ],
   "source": [
    "#Count the frequency of each word in the string in a dictionary.(Slipt the string into a list of srtings using the space delimeter)\n",
    "a = poem3.split(\" \")\n",
    "freq_a = []\n",
    "\n",
    "for i in a:\n",
    "    freq_a.append(a.count(i)) #cuenta cuantas veces cada palabra hay en a. y las añade como string en la lista vacia, por eso el append.\n",
    "    \n",
    "b = str(list(zip(a, freq_a))) #Zip es lo mismo que combinar.\n",
    "print(b)\n"
   ]
  },
  {
   "cell_type": "markdown",
   "metadata": {},
   "source": [
    "In the cell below, find all the words that appear in the text and do not appear in the blacklist. You must parse the string but can choose any data structure you wish for the words that do not appear in the blacklist. Remove all non letter characters and convert all words to lower case."
   ]
  },
  {
   "cell_type": "code",
   "execution_count": 42,
   "metadata": {},
   "outputs": [
    {
     "name": "stdout",
     "output_type": "stream",
     "text": [
      "i was angry with my friend   i told my wrath  my wrath did end  i was angry with my foe   i told not  my wrath did grow    and i waterd fears  night & morning with my tears   and i sunned with smiles  and with soft deceitful wiles    and grew both day night   till bore apple bright   and my foe beheld shine  and he knew that was mine    and into my garden stole   when night had veild pole   in morning glad i see   my foe outstretched beneath tree  "
     ]
    }
   ],
   "source": [
    "blacklist = ['and', 'as', 'an', 'a', 'the', 'in', 'it']\n",
    "\n",
    "poem = \"\"\"I was angry with my friend; \n",
    "I told my wrath, my wrath did end.\n",
    "I was angry with my foe: \n",
    "I told it not, my wrath did grow. \n",
    "\n",
    "And I waterd it in fears,\n",
    "Night & morning with my tears: \n",
    "And I sunned it with smiles,\n",
    "And with soft deceitful wiles. \n",
    "\n",
    "And it grew both day and night. \n",
    "Till it bore an apple bright. \n",
    "And my foe beheld it shine,\n",
    "And he knew that it was mine. \n",
    "\n",
    "And into my garden stole, \n",
    "When the night had veild the pole; \n",
    "In the morning glad I see; \n",
    "My foe outstretched beneath the tree.\"\"\"\n",
    "\n",
    "# Find all the words that appear in the text and do not appear in the blacklist:\n",
    "poem1 = poem.replace(',',' ')\n",
    "poem2 = poem1.replace('.',' ')\n",
    "poem3 = poem2.replace('\\n',' ')\n",
    "poem4 = poem3.replace(';',' ')\n",
    "poem5 = poem4.replace(':',' ')\n",
    "a = poem5.split(\" \")\n",
    "\n",
    "for i in a:\n",
    "    if i not in blacklist:\n",
    "        print (i.lower(), end =\" \")\n"
   ]
  },
  {
   "cell_type": "markdown",
   "metadata": {},
   "source": [
    "# Challenge 3 - Regular Expressions\n",
    "\n",
    "Sometimes, we would like to perform more complex manipulations of our string. This is where regular expressions come in handy. In the cell below, return all characters that are upper case from the string specified below."
   ]
  },
  {
   "cell_type": "code",
   "execution_count": 43,
   "metadata": {},
   "outputs": [
    {
     "name": "stdout",
     "output_type": "stream",
     "text": [
      "['T', 'P']\n"
     ]
    }
   ],
   "source": [
    "poem = \"\"\"The apparition of these faces in the crowd;\n",
    "Petals on a wet, black bough.\"\"\"\n",
    "\n",
    "# Your code here:\n",
    "pattern = \"[A-Z]\"\n",
    "print(re.findall(pattern, poem))"
   ]
  },
  {
   "cell_type": "markdown",
   "metadata": {},
   "source": [
    "In the cell below, filter the list provided and return all elements of the list containing a number. To filter the list, use the `re.search` function. Check if the function does not return `None`. You can read more about the `re.search` function [here](https://docs.python.org/3/library/re.html)."
   ]
  },
  {
   "cell_type": "code",
   "execution_count": 57,
   "metadata": {},
   "outputs": [
    {
     "data": {
      "text/plain": [
       "['1', '2', '3', '1', '2', '3', '1', '4']"
      ]
     },
     "execution_count": 57,
     "metadata": {},
     "output_type": "execute_result"
    }
   ],
   "source": [
    "data = ['123abc', 'abc123', 'JohnSmith1', 'ABBY4', 'JANE']\n",
    "\n",
    "# Your code here:\n",
    "data2 = str(data)\n",
    "pattern = \"[0-9]\"\n",
    "\n",
    "re.search(pattern,data2)\n",
    "re.findall(pattern, data2)\n",
    "\n"
   ]
  },
  {
   "cell_type": "markdown",
   "metadata": {},
   "source": [
    "# Bonus Challenge - Regular Expressions II\n",
    "\n",
    "In the cell below, filter the list provided to keep only strings containing at least one digit and at least one lower case letter. As in the previous question, use the `re.search` function and check that the result is not `None`.\n",
    "\n",
    "To read more about regular expressions, check out [this link](https://developers.google.com/edu/python/regular-expressions)."
   ]
  },
  {
   "cell_type": "code",
   "execution_count": null,
   "metadata": {},
   "outputs": [],
   "source": [
    "data = ['123abc', 'abc123', 'JohnSmith1', 'ABBY4', 'JANE']\n",
    "# Your code here:\n"
   ]
  }
 ],
 "metadata": {
  "kernelspec": {
   "display_name": "Python 3 (ipykernel)",
   "language": "python",
   "name": "python3"
  },
  "language_info": {
   "codemirror_mode": {
    "name": "ipython",
    "version": 3
   },
   "file_extension": ".py",
   "mimetype": "text/x-python",
   "name": "python",
   "nbconvert_exporter": "python",
   "pygments_lexer": "ipython3",
   "version": "3.7.11"
  }
 },
 "nbformat": 4,
 "nbformat_minor": 4
}
