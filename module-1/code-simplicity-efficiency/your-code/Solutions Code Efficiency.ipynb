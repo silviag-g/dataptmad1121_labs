{
 "cells": [
  {
   "cell_type": "code",
   "execution_count": 1,
   "id": "874532f2",
   "metadata": {},
   "outputs": [
    {
     "name": "stdout",
     "output_type": "stream",
     "text": [
      "Welcome to this calculator!\n",
      "It can add and subtract whole numbers from zero to five\n",
      "Please choose your first number (zero to five): two\n",
      "What do you want to do? plus or minus: plus\n",
      "Please choose your second number (zero to five): one\n",
      "two plus one equals three\n",
      "Thanks for using this calculator, goodbye :\n"
     ]
    }
   ],
   "source": [
    "#CHALLENGE 1\n",
    "\n",
    "print('Welcome to this calculator!')\n",
    "print('It can add and subtract whole numbers from zero to five')\n",
    "a = input('Please choose your first number (zero to five): ')\n",
    "b = input('What do you want to do? plus or minus: ')\n",
    "c = input('Please choose your second number (zero to five): ')\n",
    "numlist = ['zero', 'one', 'two', 'three', 'four', 'five', 'six', 'seven', 'eight', 'nine', 'ten']\n",
    "operation = ['plus', 'minus']\n",
    "if a not in numlist or c not in numlist or b not in operation:\n",
    "    print(\"I am not able to answer this question. Check your input.\")\n",
    "else:\n",
    "    a = numlist.index(a)\n",
    "    c = numlist.index(c)\n",
    "    if b == 'plus':\n",
    "        result = int(a) + int(c)\n",
    "        result = numlist[result]\n",
    "        print (numlist[a] + \" \" + b + \" \"+ numlist[c] + \" equals \" + str(result))\n",
    "    elif b == 'minus':\n",
    "        intnum = int(a) - int(c)\n",
    "        if intnum < 0:\n",
    "            intnum = intnum * -1\n",
    "            result = numlist[intnum]\n",
    "            print (numlist[a] + \" \" + b + \" \"+ numlist[c] + \" equals negative \" + str(result))\n",
    "        else:\n",
    "            result = numlist[intnum]\n",
    "            print (numlist[a] + \" \" + b + \" \"+ numlist[c] + \" equals \" + str(result))\n",
    "print(\"Thanks for using this calculator, goodbye :\")"
   ]
  },
  {
   "cell_type": "code",
   "execution_count": 2,
   "id": "5120aec9",
   "metadata": {},
   "outputs": [
    {
     "name": "stdout",
     "output_type": "stream",
     "text": [
      "Enter minimum string length: 1\n",
      "Enter maximum string length: 7\n",
      "How many random strings to generate? 1\n"
     ]
    }
   ],
   "source": [
    "#CHALLENGE 2\n",
    "import random, string\n",
    "a = input('Enter minimum string length: ')\n",
    "b = input('Enter maximum string length: ')\n",
    "n = input('How many random strings to generate? ')\n",
    "for i in range(int(n)):\n",
    "    longitud = [random.randint(int(a),int(b))]\n",
    "    x = ''.join(random.choices(string.ascii_lowercase + string.digits, k=longitud[0]))"
   ]
  },
  {
   "cell_type": "code",
   "execution_count": null,
   "id": "8d9b5d98",
   "metadata": {},
   "outputs": [],
   "source": []
  }
 ],
 "metadata": {
  "kernelspec": {
   "display_name": "Python [conda env:.conda-ironhack_env]",
   "language": "python",
   "name": "conda-env-.conda-ironhack_env-py"
  },
  "language_info": {
   "codemirror_mode": {
    "name": "ipython",
    "version": 3
   },
   "file_extension": ".py",
   "mimetype": "text/x-python",
   "name": "python",
   "nbconvert_exporter": "python",
   "pygments_lexer": "ipython3",
   "version": "3.9.7"
  }
 },
 "nbformat": 4,
 "nbformat_minor": 5
}
